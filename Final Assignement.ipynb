{
 "cells": [
  {
   "cell_type": "markdown",
   "id": "plastic-blank",
   "metadata": {},
   "source": [
    "# My Jupyter Notebook on IBM Watson Studio"
   ]
  },
  {
   "cell_type": "markdown",
   "id": "protective-island",
   "metadata": {},
   "source": [
    "**Kristoff Samuda**"
   ]
  },
  {
   "cell_type": "markdown",
   "id": "emerging-contents",
   "metadata": {},
   "source": [
    "AI Engineer"
   ]
  },
  {
   "cell_type": "markdown",
   "id": "dental-wedding",
   "metadata": {},
   "source": [
    "*I am interested in data science because i believe it is the necessary start to becoming an AI Engineer, it will also help me in my current role as a Product Owner.*"
   ]
  },
  {
   "cell_type": "markdown",
   "id": "honey-custom",
   "metadata": {},
   "source": [
    "### The Following code accepts a person name as an input and greets them in the console."
   ]
  },
  {
   "cell_type": "code",
   "execution_count": 5,
   "id": "chronic-bermuda",
   "metadata": {},
   "outputs": [
    {
     "name": "stdout",
     "output_type": "stream",
     "text": [
      "Please enter your name: Kristoff Samuda\n",
      "\n",
      "Hi Kristoff Samuda\n"
     ]
    }
   ],
   "source": [
    "name = str(input(\"Please enter your name: \"))\n",
    "print()\n",
    "print(\"Hi, {}.\".format(name))"
   ]
  },
  {
   "cell_type": "markdown",
   "id": "professional-discount",
   "metadata": {},
   "source": [
    "* This is a list of types of Machine Learning:\n",
    "\n",
    "|No. | Type of Learning |\n",
    "|----|-------------------|\n",
    "| 1. | Supervised Learning |\n",
    "| 2. | Unsupervised Learning |\n",
    "| 3. | Reinforcement Learning |\n",
    "\n"
   ]
  }
 ],
 "metadata": {
  "kernelspec": {
   "display_name": "Python 3",
   "language": "python",
   "name": "python3"
  },
  "language_info": {
   "codemirror_mode": {
    "name": "ipython",
    "version": 3
   },
   "file_extension": ".py",
   "mimetype": "text/x-python",
   "name": "python",
   "nbconvert_exporter": "python",
   "pygments_lexer": "ipython3",
   "version": "3.6.13"
  }
 },
 "nbformat": 4,
 "nbformat_minor": 5
}
